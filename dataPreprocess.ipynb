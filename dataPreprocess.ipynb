{
 "cells": [
  {
   "cell_type": "code",
   "execution_count": 51,
   "metadata": {},
   "outputs": [],
   "source": [
    "import codecs\n",
    "import os\n",
    "# import re\n",
    "\n",
    "# import pandas as pd\n",
    "from _pickle import dump\n",
    "import numpy as np"
   ]
  },
  {
   "cell_type": "code",
   "execution_count": 5,
   "metadata": {},
   "outputs": [],
   "source": [
    "os.chdir('./miniTrainData')"
   ]
  },
  {
   "cell_type": "code",
   "execution_count": 6,
   "metadata": {},
   "outputs": [
    {
     "name": "stdout",
     "output_type": "stream",
     "text": [
      "sport 20\n",
      "entertainment 20\n",
      "business 20\n",
      "politics 20\n",
      "tech 20\n"
     ]
    }
   ],
   "source": [
    "# data=pd.DataFrame(columns=['Text']) \n",
    "data = []\n",
    "for folders in os.listdir(os.getcwd()):\n",
    "    cnt=0\n",
    "    for file in os.listdir(folders):\n",
    "        data.append((codecs.open('./'+folders+'/'+file,encoding='utf8',errors='replace').read()))\n",
    "        cnt+=1\n",
    "    print(folders,cnt)"
   ]
  },
  {
   "cell_type": "code",
   "execution_count": 28,
   "metadata": {},
   "outputs": [
    {
     "data": {
      "text/plain": [
       "'Collins to compete in Birmingham\\n\\nWorld and Commonwealth 100m champion Kim Collins will compete in the 60m at the Norwich Union Grand Prix in Birmingham on 18 February.\\n\\nThe St Kitts and Nevis star joins British Olympic relay gold medallists Jason Gardener and Mark Lewis-Francis. Sydney Olympic 100m champion and world indoor record holder Maurice Greene and Athens Olympic 100m silver medallist Francis Obikwelu will also take part. Collins ran in Birmingham at the 2003 World Indoor Championships. \"I\\'m looking forward to competing against such a strong field,\" he said. \"I got a great reception form the crowd at the NIA when I won my 60m world indoor silver medal in 2003 and it will be really exciting to return to this venue.\" The world champion says he\\'s in good shape but he isn\\'t underestimating the home competition. \"Jason Gardener and Mark Lewis-Francis are Olympic gold medallists now and I\\'m sure they\\'ll be aiming to win in front of their home supporters. \"I\\'m looking forward to competing against Britain\\'s best sprinters and I\\'m sure the 60 metres will be one of the most exciting races of the evening.\" Collins was sixth in the Olympic final in Athens but is hoping for a better result at the World Championships in Finland this summer. \"This will be a big year for me and I plan to defend my 100m world title in Helsinki in August. Before then I want to perform well over 60m indoors and start my year in winning form.\"\\n'"
      ]
     },
     "execution_count": 28,
     "metadata": {},
     "output_type": "execute_result"
    }
   ],
   "source": [
    "data[10]"
   ]
  },
  {
   "cell_type": "code",
   "execution_count": 35,
   "metadata": {},
   "outputs": [],
   "source": [
    "head_lines = [ 'startseq '+ doc.splitlines()[0] +' endseq' for doc in data]\n",
    "Text = [ 'startseq '+' '.join(doc.splitlines()[1:])+' endseq' for doc in data]"
   ]
  },
  {
   "cell_type": "code",
   "execution_count": 36,
   "metadata": {},
   "outputs": [
    {
     "data": {
      "text/plain": [
       "'startseq Collins to compete in Birmingham endseq'"
      ]
     },
     "execution_count": 36,
     "metadata": {},
     "output_type": "execute_result"
    }
   ],
   "source": [
    "head_lines[10]"
   ]
  },
  {
   "cell_type": "code",
   "execution_count": 37,
   "metadata": {},
   "outputs": [
    {
     "data": {
      "text/plain": [
       "'startseq  World and Commonwealth 100m champion Kim Collins will compete in the 60m at the Norwich Union Grand Prix in Birmingham on 18 February.  The St Kitts and Nevis star joins British Olympic relay gold medallists Jason Gardener and Mark Lewis-Francis. Sydney Olympic 100m champion and world indoor record holder Maurice Greene and Athens Olympic 100m silver medallist Francis Obikwelu will also take part. Collins ran in Birmingham at the 2003 World Indoor Championships. \"I\\'m looking forward to competing against such a strong field,\" he said. \"I got a great reception form the crowd at the NIA when I won my 60m world indoor silver medal in 2003 and it will be really exciting to return to this venue.\" The world champion says he\\'s in good shape but he isn\\'t underestimating the home competition. \"Jason Gardener and Mark Lewis-Francis are Olympic gold medallists now and I\\'m sure they\\'ll be aiming to win in front of their home supporters. \"I\\'m looking forward to competing against Britain\\'s best sprinters and I\\'m sure the 60 metres will be one of the most exciting races of the evening.\" Collins was sixth in the Olympic final in Athens but is hoping for a better result at the World Championships in Finland this summer. \"This will be a big year for me and I plan to defend my 100m world title in Helsinki in August. Before then I want to perform well over 60m indoors and start my year in winning form.\" endseq'"
      ]
     },
     "execution_count": 37,
     "metadata": {},
     "output_type": "execute_result"
    }
   ],
   "source": [
    "Text[10]"
   ]
  },
  {
   "cell_type": "code",
   "execution_count": 12,
   "metadata": {},
   "outputs": [
    {
     "name": "stderr",
     "output_type": "stream",
     "text": [
      "/home/aninda/anaconda3/lib/python3.5/site-packages/h5py/__init__.py:36: FutureWarning: Conversion of the second argument of issubdtype from `float` to `np.floating` is deprecated. In future, it will be treated as `np.float64 == np.dtype(float).type`.\n",
      "  from ._conv import register_converters as _register_converters\n",
      "Using TensorFlow backend.\n"
     ]
    }
   ],
   "source": [
    "from keras.preprocessing.text import Tokenizer\n",
    "from keras.preprocessing.sequence import pad_sequences"
   ]
  },
  {
   "cell_type": "code",
   "execution_count": 39,
   "metadata": {},
   "outputs": [],
   "source": [
    "tokenizer=Tokenizer(filters='!\"#$%&()*+,\\'-./:;<=>?@[\\\\]^_`{|}~\\t\\n')"
   ]
  },
  {
   "cell_type": "code",
   "execution_count": 40,
   "metadata": {},
   "outputs": [],
   "source": [
    "tokenizer.fit_on_texts(head_lines+Text)"
   ]
  },
  {
   "cell_type": "code",
   "execution_count": 41,
   "metadata": {},
   "outputs": [
    {
     "name": "stdout",
     "output_type": "stream",
     "text": [
      "6221\n"
     ]
    }
   ],
   "source": [
    "word_to_index=tokenizer.word_index\n",
    "index_to_word={ index:word for word,index in word_to_index.items()}\n",
    "vocab_size=len(word_to_index)\n",
    "print(vocab_size)"
   ]
  },
  {
   "cell_type": "code",
   "execution_count": 42,
   "metadata": {},
   "outputs": [],
   "source": [
    "train_sequence_text=tokenizer.texts_to_sequences(Text)\n",
    "train_sequence_head=tokenizer.texts_to_sequences(head_lines)"
   ]
  },
  {
   "cell_type": "code",
   "execution_count": 43,
   "metadata": {},
   "outputs": [
    {
     "name": "stdout",
     "output_type": "stream",
     "text": [
      "1247 9\n"
     ]
    }
   ],
   "source": [
    "maxlen_x=max(len(i) for i in train_sequence_text)\n",
    "maxlen_y=max(len(i) for i in train_sequence_head)\n",
    "print(maxlen_x,maxlen_y)"
   ]
  },
  {
   "cell_type": "code",
   "execution_count": 47,
   "metadata": {},
   "outputs": [],
   "source": [
    "from keras.utils import to_categorical"
   ]
  },
  {
   "cell_type": "code",
   "execution_count": 48,
   "metadata": {},
   "outputs": [],
   "source": [
    "def data_for_model(sequences_head,sequences_text):\n",
    "    x1=[]\n",
    "    x2=[]\n",
    "    y=[]\n",
    "    for sequence_idx,sequence in enumerate(sequences_head):\n",
    "        for idx in range(1,len(sequence)):\n",
    "            in_seq,out_seq=sequence[:idx],sequence[idx]\n",
    "            in_seq=pad_sequences([in_seq],maxlen=maxlen_y)[0]\n",
    "            out_seq=to_categorical([out_seq],num_classes=vocab_size+1)[0]\n",
    "            x1.append(pad_sequences([sequences_text[sequence_idx]],maxlen=maxlen_x)[0])\n",
    "            x2.append(in_seq)\n",
    "            y.append(out_seq)\n",
    "    return np.array(x1),np.array(x2),np.array(y)"
   ]
  },
  {
   "cell_type": "code",
   "execution_count": 49,
   "metadata": {},
   "outputs": [],
   "source": [
    "x1_train,x2_train,y_train=data_for_model(train_sequence_head,train_sequence_text)"
   ]
  },
  {
   "cell_type": "code",
   "execution_count": 52,
   "metadata": {},
   "outputs": [],
   "source": []
  },
  {
   "cell_type": "code",
   "execution_count": null,
   "metadata": {},
   "outputs": [],
   "source": []
  },
  {
   "cell_type": "code",
   "execution_count": null,
   "metadata": {},
   "outputs": [],
   "source": []
  },
  {
   "cell_type": "code",
   "execution_count": 53,
   "metadata": {},
   "outputs": [],
   "source": [
    "os.chdir('..')"
   ]
  },
  {
   "cell_type": "code",
   "execution_count": 54,
   "metadata": {},
   "outputs": [],
   "source": [
    "embedding_dim=200\n",
    "embedding_weights = np.empty((400000,embedding_dim))"
   ]
  },
  {
   "cell_type": "code",
   "execution_count": 55,
   "metadata": {},
   "outputs": [],
   "source": [
    "i=0\n",
    "glove_word_to_index = {}\n",
    "with open('glove.6B.200d.txt','r') as file:\n",
    "    for line in file:\n",
    "        token=line.strip().split()\n",
    "        glove_word_to_index[token[0]] = i\n",
    "        embedding_weights[i]=list(map(float,token[1:]))\n",
    "\n",
    "        i+=1\n",
    "\n",
    "file.close()"
   ]
  },
  {
   "cell_type": "code",
   "execution_count": 56,
   "metadata": {},
   "outputs": [],
   "source": [
    "np.random.seed(5)\n",
    "embedding_weights*=.1"
   ]
  },
  {
   "cell_type": "code",
   "execution_count": 57,
   "metadata": {},
   "outputs": [
    {
     "name": "stdout",
     "output_type": "stream",
     "text": [
      "0.0661404484678092\n"
     ]
    }
   ],
   "source": [
    "shape=(vocab_size+1,embedding_dim)\n",
    "scale = embedding_weights.std()*np.sqrt(12)/2\n",
    "print(scale)\n",
    "embedding = np.random.uniform(low=-scale, high=scale, size=shape)"
   ]
  },
  {
   "cell_type": "code",
   "execution_count": 58,
   "metadata": {},
   "outputs": [
    {
     "name": "stdout",
     "output_type": "stream",
     "text": [
      "6073\n"
     ]
    }
   ],
   "source": [
    "word_found_in_glove = 0\n",
    "for word,idx in word_to_index.items():\n",
    "    if word in glove_word_to_index:\n",
    "        embedding[idx] = embedding_weights[glove_word_to_index[word]]\n",
    "        word_found_in_glove += 1\n",
    "        \n",
    "print(word_found_in_glove)"
   ]
  },
  {
   "cell_type": "code",
   "execution_count": 59,
   "metadata": {},
   "outputs": [],
   "source": [
    "dump(x1_train, open('x1_train.pkl', 'wb'))\n",
    "dump(x2_train, open('x2_train.pkl', 'wb'))\n",
    "dump(y_train, open('y_train.pkl', 'wb'))\n",
    "dump(embedding, open('embedding.pkl', 'wb'))"
   ]
  },
  {
   "cell_type": "code",
   "execution_count": null,
   "metadata": {},
   "outputs": [],
   "source": []
  }
 ],
 "metadata": {
  "kernelspec": {
   "display_name": "Python 3",
   "language": "python",
   "name": "python3"
  },
  "language_info": {
   "codemirror_mode": {
    "name": "ipython",
    "version": 3
   },
   "file_extension": ".py",
   "mimetype": "text/x-python",
   "name": "python",
   "nbconvert_exporter": "python",
   "pygments_lexer": "ipython3",
   "version": "3.5.4"
  }
 },
 "nbformat": 4,
 "nbformat_minor": 2
}
